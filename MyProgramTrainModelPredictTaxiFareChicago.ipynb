{
  "nbformat": 4,
  "nbformat_minor": 0,
  "metadata": {
    "colab": {
      "provenance": [],
      "authorship_tag": "ABX9TyPwl2ldOhw4h4/9N3HIL1Lj",
      "include_colab_link": true
    },
    "kernelspec": {
      "name": "python3",
      "display_name": "Python 3"
    },
    "language_info": {
      "name": "python"
    }
  },
  "cells": [
    {
      "cell_type": "markdown",
      "metadata": {
        "id": "view-in-github",
        "colab_type": "text"
      },
      "source": [
        "<a href=\"https://colab.research.google.com/github/NimmiJames/taxi-fare-prediction/blob/main/MyProgramTrainModelPredictTaxiFareChicago.ipynb\" target=\"_parent\"><img src=\"https://colab.research.google.com/assets/colab-badge.svg\" alt=\"Open In Colab\"/></a>"
      ]
    },
    {
      "cell_type": "markdown",
      "source": [],
      "metadata": {
        "id": "58nGtwBYuzJM"
      }
    },
    {
      "cell_type": "code",
      "source": [
        "import numpy as np\n",
        "import pandas as pd\n",
        "import matplotlib.pyplot as plt\n",
        "\n",
        "\n",
        "\n",
        "# Load the dataset (replace with your dataset path or URL)\n",
        "url = \"https://download.mlcc.google.com/mledu-datasets/chicago_taxi_train.csv\"  # Example URL\n",
        "data = pd.read_csv(url)\n",
        "# Preprocess the data\n",
        "# Select relevant features and target variable\n"
      ],
      "metadata": {
        "id": "ycLEOf9Nuzaj"
      },
      "execution_count": 3,
      "outputs": []
    },
    {
      "cell_type": "markdown",
      "source": [
        "next step\n"
      ],
      "metadata": {
        "id": "mzNNW2Lfu5Jc"
      }
    },
    {
      "cell_type": "code",
      "source": [
        "df = pd.read_csv(url)\n",
        "\n",
        "# Inspect the first few rows and summary information\n",
        "print(df.head())\n",
        "print(df.info())\n",
        "print(df.describe())\n"
      ],
      "metadata": {
        "colab": {
          "base_uri": "https://localhost:8080/"
        },
        "id": "pnZS8rz412Vd",
        "outputId": "66544c76-2fe7-46eb-f98e-10616cd79c30"
      },
      "execution_count": 5,
      "outputs": [
        {
          "output_type": "stream",
          "name": "stdout",
          "text": [
            "    TRIP_START_TIMESTAMP     TRIP_END_TIMESTAMP  TRIP_START_HOUR  \\\n",
            "0  05/17/2022 7:15:00 AM  05/17/2022 7:45:00 AM             7.25   \n",
            "1  05/17/2022 5:15:00 PM  05/17/2022 5:30:00 PM            17.25   \n",
            "2  05/17/2022 5:15:00 PM  05/17/2022 5:30:00 PM            17.25   \n",
            "3  05/17/2022 6:00:00 PM  05/17/2022 7:00:00 PM            18.00   \n",
            "4  05/17/2022 5:00:00 PM  05/17/2022 5:30:00 PM            17.00   \n",
            "\n",
            "   TRIP_SECONDS  TRIP_MILES  TRIP_SPEED  PICKUP_CENSUS_TRACT  \\\n",
            "0          2341        2.57         4.0                  NaN   \n",
            "1          1074        1.18         4.0                  NaN   \n",
            "2          1173        1.29         4.0         1.703132e+10   \n",
            "3          3360        3.70         4.0         1.703132e+10   \n",
            "4          1044        1.15         4.0         1.703132e+10   \n",
            "\n",
            "   DROPOFF_CENSUS_TRACT  PICKUP_COMMUNITY_AREA  DROPOFF_COMMUNITY_AREA   FARE  \\\n",
            "0                   NaN                    NaN                    17.0  31.99   \n",
            "1          1.703108e+10                    NaN                     8.0   9.75   \n",
            "2          1.703108e+10                   32.0                     8.0  10.25   \n",
            "3          1.703124e+10                   32.0                    24.0  23.75   \n",
            "4          1.703108e+10                   32.0                     8.0  10.00   \n",
            "\n",
            "   TIPS  TIP_RATE  TOLLS  EXTRAS  TRIP_TOTAL PAYMENT_TYPE  \\\n",
            "0   2.0       6.3    0.0     0.0       33.99       Mobile   \n",
            "1   3.0      27.9    0.0     1.0       14.25  Credit Card   \n",
            "2   0.0       0.0    0.0     0.0       10.25         Cash   \n",
            "3   0.0       0.0    0.0     1.0       24.75         Cash   \n",
            "4   0.0       0.0    0.0     0.0       10.00         Cash   \n",
            "\n",
            "                   COMPANY  \n",
            "0                Flash Cab  \n",
            "1                Flash Cab  \n",
            "2                 Sun Taxi  \n",
            "3  Choice Taxi Association  \n",
            "4                Flash Cab  \n",
            "<class 'pandas.core.frame.DataFrame'>\n",
            "RangeIndex: 31694 entries, 0 to 31693\n",
            "Data columns (total 18 columns):\n",
            " #   Column                  Non-Null Count  Dtype  \n",
            "---  ------                  --------------  -----  \n",
            " 0   TRIP_START_TIMESTAMP    31694 non-null  object \n",
            " 1   TRIP_END_TIMESTAMP      31694 non-null  object \n",
            " 2   TRIP_START_HOUR         31694 non-null  float64\n",
            " 3   TRIP_SECONDS            31694 non-null  int64  \n",
            " 4   TRIP_MILES              31694 non-null  float64\n",
            " 5   TRIP_SPEED              31694 non-null  float64\n",
            " 6   PICKUP_CENSUS_TRACT     13259 non-null  float64\n",
            " 7   DROPOFF_CENSUS_TRACT    14023 non-null  float64\n",
            " 8   PICKUP_COMMUNITY_AREA   28477 non-null  float64\n",
            " 9   DROPOFF_COMMUNITY_AREA  28199 non-null  float64\n",
            " 10  FARE                    31694 non-null  float64\n",
            " 11  TIPS                    31694 non-null  float64\n",
            " 12  TIP_RATE                31694 non-null  float64\n",
            " 13  TOLLS                   31694 non-null  float64\n",
            " 14  EXTRAS                  31694 non-null  float64\n",
            " 15  TRIP_TOTAL              31694 non-null  float64\n",
            " 16  PAYMENT_TYPE            31694 non-null  object \n",
            " 17  COMPANY                 31694 non-null  object \n",
            "dtypes: float64(13), int64(1), object(4)\n",
            "memory usage: 4.4+ MB\n",
            "None\n",
            "       TRIP_START_HOUR  TRIP_SECONDS    TRIP_MILES    TRIP_SPEED  \\\n",
            "count     31694.000000  31694.000000  31694.000000  31694.000000   \n",
            "mean         14.185635   1319.796397      8.289463     20.256544   \n",
            "std           5.159454    928.932873      7.265672     11.110390   \n",
            "min           0.000000     60.000000      0.500000      4.000000   \n",
            "25%          10.500000    548.000000      1.720000     11.000000   \n",
            "50%          14.750000   1081.000000      5.920000     17.600000   \n",
            "75%          18.000000   1888.000000     14.500000     27.500000   \n",
            "max          23.750000   7140.000000     68.120000     64.800000   \n",
            "\n",
            "       PICKUP_CENSUS_TRACT  DROPOFF_CENSUS_TRACT  PICKUP_COMMUNITY_AREA  \\\n",
            "count         1.325900e+04          1.402300e+04           28477.000000   \n",
            "mean          1.703153e+10          1.703140e+10              35.562138   \n",
            "std           3.827747e+05          3.408106e+05              26.421367   \n",
            "min           1.703102e+10          1.703101e+10               1.000000   \n",
            "25%           1.703108e+10          1.703108e+10               8.000000   \n",
            "50%           1.703132e+10          1.703132e+10              32.000000   \n",
            "75%           1.703198e+10          1.703184e+10              59.000000   \n",
            "max           1.703198e+10          1.703198e+10              77.000000   \n",
            "\n",
            "       DROPOFF_COMMUNITY_AREA          FARE          TIPS      TIP_RATE  \\\n",
            "count            28199.000000  31694.000000  31694.000000  31694.000000   \n",
            "mean                25.550410     23.905210      3.246130     12.965785   \n",
            "std                 20.349707     16.970022      4.284567     15.517765   \n",
            "min                  1.000000      3.250000      0.000000      0.000000   \n",
            "25%                  8.000000      9.000000      0.000000      0.000000   \n",
            "50%                 28.000000     18.750000      2.000000     12.200000   \n",
            "75%                 32.000000     38.750000      5.000000     20.800000   \n",
            "max                 77.000000    159.250000     60.000000    648.600000   \n",
            "\n",
            "              TOLLS        EXTRAS    TRIP_TOTAL  \n",
            "count  31694.000000  31694.000000  31694.000000  \n",
            "mean       0.002744      2.410468     29.755053  \n",
            "std        0.164343      5.805087     23.145537  \n",
            "min        0.000000      0.000000      3.250000  \n",
            "25%        0.000000      0.000000     10.750000  \n",
            "50%        0.000000      0.000000     21.700000  \n",
            "75%        0.000000      4.000000     48.265000  \n",
            "max       27.000000     85.000000    248.500000  \n"
          ]
        }
      ]
    },
    {
      "cell_type": "code",
      "source": [],
      "metadata": {
        "id": "RS1kHC9A4b0u"
      },
      "execution_count": null,
      "outputs": []
    },
    {
      "cell_type": "markdown",
      "source": [
        "This will give you an overview of the columns, data types, and basic statistics.\n"
      ],
      "metadata": {
        "id": "gfiAqEfA3moE"
      }
    },
    {
      "cell_type": "code",
      "source": [
        "#@title Code - Read dataset\n",
        "\n",
        "# Updates dataframe to use specific columns.\n",
        "training_df = data[['TRIP_MILES', 'TRIP_SECONDS', 'FARE', 'COMPANY', 'PAYMENT_TYPE', 'TIP_RATE']]\n"
      ],
      "metadata": {
        "id": "r3MbK6qr9tZn"
      },
      "execution_count": 8,
      "outputs": []
    },
    {
      "cell_type": "markdown",
      "source": [],
      "metadata": {
        "id": "4YlAnK3I-CbJ"
      }
    },
    {
      "cell_type": "markdown",
      "source": [],
      "metadata": {
        "id": "hIh8_eG9-mtF"
      }
    },
    {
      "cell_type": "markdown",
      "source": [],
      "metadata": {
        "id": "Au1t8cUx-nXY"
      }
    },
    {
      "cell_type": "code",
      "source": [
        "print('Read dataset completed successfully.')\n",
        "print('Total number of rows: {0}\\n\\n'.format(len(training_df.index)))\n",
        "training_df.head(200)"
      ],
      "metadata": {
        "colab": {
          "base_uri": "https://localhost:8080/",
          "height": 493
        },
        "id": "OzrMbuH9-oAt",
        "outputId": "e0938e52-909f-4afe-eae2-58587490b642"
      },
      "execution_count": 9,
      "outputs": [
        {
          "output_type": "stream",
          "name": "stdout",
          "text": [
            "Read dataset completed successfully.\n",
            "Total number of rows: 12463\n",
            "\n",
            "\n"
          ]
        },
        {
          "output_type": "execute_result",
          "data": {
            "text/plain": [
              "     TRIP_MILES  TRIP_SECONDS   FARE                        COMPANY  \\\n",
              "2          1.29          1173  10.25                       Sun Taxi   \n",
              "3          3.70          3360  23.75        Choice Taxi Association   \n",
              "4          1.15          1044  10.00                      Flash Cab   \n",
              "5          1.38          1251  11.00                      Flash Cab   \n",
              "6          2.00          1813  14.50                       Sun Taxi   \n",
              "..          ...           ...    ...                            ...   \n",
              "305        0.82           555   6.50                      Flash Cab   \n",
              "307        0.55           372   5.50                      Flash Cab   \n",
              "308        1.08           729   7.75                       Sun Taxi   \n",
              "309        0.80           540   9.25  Taxicab Insurance Agency, LLC   \n",
              "310        0.80           540   6.50      Taxi Affiliation Services   \n",
              "\n",
              "    PAYMENT_TYPE  TIP_RATE  \n",
              "2           Cash       0.0  \n",
              "3           Cash       0.0  \n",
              "4           Cash       0.0  \n",
              "5    Credit Card      27.3  \n",
              "6           Cash       0.0  \n",
              "..           ...       ...  \n",
              "305  Credit Card      53.3  \n",
              "307         Cash       0.0  \n",
              "308  Credit Card      25.8  \n",
              "309         Cash       0.0  \n",
              "310  Credit Card      26.7  \n",
              "\n",
              "[200 rows x 6 columns]"
            ],
            "text/html": [
              "\n",
              "  <div id=\"df-4e82cb33-7add-48d7-8723-a72d74757762\" class=\"colab-df-container\">\n",
              "    <div>\n",
              "<style scoped>\n",
              "    .dataframe tbody tr th:only-of-type {\n",
              "        vertical-align: middle;\n",
              "    }\n",
              "\n",
              "    .dataframe tbody tr th {\n",
              "        vertical-align: top;\n",
              "    }\n",
              "\n",
              "    .dataframe thead th {\n",
              "        text-align: right;\n",
              "    }\n",
              "</style>\n",
              "<table border=\"1\" class=\"dataframe\">\n",
              "  <thead>\n",
              "    <tr style=\"text-align: right;\">\n",
              "      <th></th>\n",
              "      <th>TRIP_MILES</th>\n",
              "      <th>TRIP_SECONDS</th>\n",
              "      <th>FARE</th>\n",
              "      <th>COMPANY</th>\n",
              "      <th>PAYMENT_TYPE</th>\n",
              "      <th>TIP_RATE</th>\n",
              "    </tr>\n",
              "  </thead>\n",
              "  <tbody>\n",
              "    <tr>\n",
              "      <th>2</th>\n",
              "      <td>1.29</td>\n",
              "      <td>1173</td>\n",
              "      <td>10.25</td>\n",
              "      <td>Sun Taxi</td>\n",
              "      <td>Cash</td>\n",
              "      <td>0.0</td>\n",
              "    </tr>\n",
              "    <tr>\n",
              "      <th>3</th>\n",
              "      <td>3.70</td>\n",
              "      <td>3360</td>\n",
              "      <td>23.75</td>\n",
              "      <td>Choice Taxi Association</td>\n",
              "      <td>Cash</td>\n",
              "      <td>0.0</td>\n",
              "    </tr>\n",
              "    <tr>\n",
              "      <th>4</th>\n",
              "      <td>1.15</td>\n",
              "      <td>1044</td>\n",
              "      <td>10.00</td>\n",
              "      <td>Flash Cab</td>\n",
              "      <td>Cash</td>\n",
              "      <td>0.0</td>\n",
              "    </tr>\n",
              "    <tr>\n",
              "      <th>5</th>\n",
              "      <td>1.38</td>\n",
              "      <td>1251</td>\n",
              "      <td>11.00</td>\n",
              "      <td>Flash Cab</td>\n",
              "      <td>Credit Card</td>\n",
              "      <td>27.3</td>\n",
              "    </tr>\n",
              "    <tr>\n",
              "      <th>6</th>\n",
              "      <td>2.00</td>\n",
              "      <td>1813</td>\n",
              "      <td>14.50</td>\n",
              "      <td>Sun Taxi</td>\n",
              "      <td>Cash</td>\n",
              "      <td>0.0</td>\n",
              "    </tr>\n",
              "    <tr>\n",
              "      <th>...</th>\n",
              "      <td>...</td>\n",
              "      <td>...</td>\n",
              "      <td>...</td>\n",
              "      <td>...</td>\n",
              "      <td>...</td>\n",
              "      <td>...</td>\n",
              "    </tr>\n",
              "    <tr>\n",
              "      <th>305</th>\n",
              "      <td>0.82</td>\n",
              "      <td>555</td>\n",
              "      <td>6.50</td>\n",
              "      <td>Flash Cab</td>\n",
              "      <td>Credit Card</td>\n",
              "      <td>53.3</td>\n",
              "    </tr>\n",
              "    <tr>\n",
              "      <th>307</th>\n",
              "      <td>0.55</td>\n",
              "      <td>372</td>\n",
              "      <td>5.50</td>\n",
              "      <td>Flash Cab</td>\n",
              "      <td>Cash</td>\n",
              "      <td>0.0</td>\n",
              "    </tr>\n",
              "    <tr>\n",
              "      <th>308</th>\n",
              "      <td>1.08</td>\n",
              "      <td>729</td>\n",
              "      <td>7.75</td>\n",
              "      <td>Sun Taxi</td>\n",
              "      <td>Credit Card</td>\n",
              "      <td>25.8</td>\n",
              "    </tr>\n",
              "    <tr>\n",
              "      <th>309</th>\n",
              "      <td>0.80</td>\n",
              "      <td>540</td>\n",
              "      <td>9.25</td>\n",
              "      <td>Taxicab Insurance Agency, LLC</td>\n",
              "      <td>Cash</td>\n",
              "      <td>0.0</td>\n",
              "    </tr>\n",
              "    <tr>\n",
              "      <th>310</th>\n",
              "      <td>0.80</td>\n",
              "      <td>540</td>\n",
              "      <td>6.50</td>\n",
              "      <td>Taxi Affiliation Services</td>\n",
              "      <td>Credit Card</td>\n",
              "      <td>26.7</td>\n",
              "    </tr>\n",
              "  </tbody>\n",
              "</table>\n",
              "<p>200 rows × 6 columns</p>\n",
              "</div>\n",
              "    <div class=\"colab-df-buttons\">\n",
              "\n",
              "  <div class=\"colab-df-container\">\n",
              "    <button class=\"colab-df-convert\" onclick=\"convertToInteractive('df-4e82cb33-7add-48d7-8723-a72d74757762')\"\n",
              "            title=\"Convert this dataframe to an interactive table.\"\n",
              "            style=\"display:none;\">\n",
              "\n",
              "  <svg xmlns=\"http://www.w3.org/2000/svg\" height=\"24px\" viewBox=\"0 -960 960 960\">\n",
              "    <path d=\"M120-120v-720h720v720H120Zm60-500h600v-160H180v160Zm220 220h160v-160H400v160Zm0 220h160v-160H400v160ZM180-400h160v-160H180v160Zm440 0h160v-160H620v160ZM180-180h160v-160H180v160Zm440 0h160v-160H620v160Z\"/>\n",
              "  </svg>\n",
              "    </button>\n",
              "\n",
              "  <style>\n",
              "    .colab-df-container {\n",
              "      display:flex;\n",
              "      gap: 12px;\n",
              "    }\n",
              "\n",
              "    .colab-df-convert {\n",
              "      background-color: #E8F0FE;\n",
              "      border: none;\n",
              "      border-radius: 50%;\n",
              "      cursor: pointer;\n",
              "      display: none;\n",
              "      fill: #1967D2;\n",
              "      height: 32px;\n",
              "      padding: 0 0 0 0;\n",
              "      width: 32px;\n",
              "    }\n",
              "\n",
              "    .colab-df-convert:hover {\n",
              "      background-color: #E2EBFA;\n",
              "      box-shadow: 0px 1px 2px rgba(60, 64, 67, 0.3), 0px 1px 3px 1px rgba(60, 64, 67, 0.15);\n",
              "      fill: #174EA6;\n",
              "    }\n",
              "\n",
              "    .colab-df-buttons div {\n",
              "      margin-bottom: 4px;\n",
              "    }\n",
              "\n",
              "    [theme=dark] .colab-df-convert {\n",
              "      background-color: #3B4455;\n",
              "      fill: #D2E3FC;\n",
              "    }\n",
              "\n",
              "    [theme=dark] .colab-df-convert:hover {\n",
              "      background-color: #434B5C;\n",
              "      box-shadow: 0px 1px 3px 1px rgba(0, 0, 0, 0.15);\n",
              "      filter: drop-shadow(0px 1px 2px rgba(0, 0, 0, 0.3));\n",
              "      fill: #FFFFFF;\n",
              "    }\n",
              "  </style>\n",
              "\n",
              "    <script>\n",
              "      const buttonEl =\n",
              "        document.querySelector('#df-4e82cb33-7add-48d7-8723-a72d74757762 button.colab-df-convert');\n",
              "      buttonEl.style.display =\n",
              "        google.colab.kernel.accessAllowed ? 'block' : 'none';\n",
              "\n",
              "      async function convertToInteractive(key) {\n",
              "        const element = document.querySelector('#df-4e82cb33-7add-48d7-8723-a72d74757762');\n",
              "        const dataTable =\n",
              "          await google.colab.kernel.invokeFunction('convertToInteractive',\n",
              "                                                    [key], {});\n",
              "        if (!dataTable) return;\n",
              "\n",
              "        const docLinkHtml = 'Like what you see? Visit the ' +\n",
              "          '<a target=\"_blank\" href=https://colab.research.google.com/notebooks/data_table.ipynb>data table notebook</a>'\n",
              "          + ' to learn more about interactive tables.';\n",
              "        element.innerHTML = '';\n",
              "        dataTable['output_type'] = 'display_data';\n",
              "        await google.colab.output.renderOutput(dataTable, element);\n",
              "        const docLink = document.createElement('div');\n",
              "        docLink.innerHTML = docLinkHtml;\n",
              "        element.appendChild(docLink);\n",
              "      }\n",
              "    </script>\n",
              "  </div>\n",
              "\n",
              "\n",
              "<div id=\"df-64c99b15-4fc7-4f8a-b68e-358618c3a332\">\n",
              "  <button class=\"colab-df-quickchart\" onclick=\"quickchart('df-64c99b15-4fc7-4f8a-b68e-358618c3a332')\"\n",
              "            title=\"Suggest charts\"\n",
              "            style=\"display:none;\">\n",
              "\n",
              "<svg xmlns=\"http://www.w3.org/2000/svg\" height=\"24px\"viewBox=\"0 0 24 24\"\n",
              "     width=\"24px\">\n",
              "    <g>\n",
              "        <path d=\"M19 3H5c-1.1 0-2 .9-2 2v14c0 1.1.9 2 2 2h14c1.1 0 2-.9 2-2V5c0-1.1-.9-2-2-2zM9 17H7v-7h2v7zm4 0h-2V7h2v10zm4 0h-2v-4h2v4z\"/>\n",
              "    </g>\n",
              "</svg>\n",
              "  </button>\n",
              "\n",
              "<style>\n",
              "  .colab-df-quickchart {\n",
              "      --bg-color: #E8F0FE;\n",
              "      --fill-color: #1967D2;\n",
              "      --hover-bg-color: #E2EBFA;\n",
              "      --hover-fill-color: #174EA6;\n",
              "      --disabled-fill-color: #AAA;\n",
              "      --disabled-bg-color: #DDD;\n",
              "  }\n",
              "\n",
              "  [theme=dark] .colab-df-quickchart {\n",
              "      --bg-color: #3B4455;\n",
              "      --fill-color: #D2E3FC;\n",
              "      --hover-bg-color: #434B5C;\n",
              "      --hover-fill-color: #FFFFFF;\n",
              "      --disabled-bg-color: #3B4455;\n",
              "      --disabled-fill-color: #666;\n",
              "  }\n",
              "\n",
              "  .colab-df-quickchart {\n",
              "    background-color: var(--bg-color);\n",
              "    border: none;\n",
              "    border-radius: 50%;\n",
              "    cursor: pointer;\n",
              "    display: none;\n",
              "    fill: var(--fill-color);\n",
              "    height: 32px;\n",
              "    padding: 0;\n",
              "    width: 32px;\n",
              "  }\n",
              "\n",
              "  .colab-df-quickchart:hover {\n",
              "    background-color: var(--hover-bg-color);\n",
              "    box-shadow: 0 1px 2px rgba(60, 64, 67, 0.3), 0 1px 3px 1px rgba(60, 64, 67, 0.15);\n",
              "    fill: var(--button-hover-fill-color);\n",
              "  }\n",
              "\n",
              "  .colab-df-quickchart-complete:disabled,\n",
              "  .colab-df-quickchart-complete:disabled:hover {\n",
              "    background-color: var(--disabled-bg-color);\n",
              "    fill: var(--disabled-fill-color);\n",
              "    box-shadow: none;\n",
              "  }\n",
              "\n",
              "  .colab-df-spinner {\n",
              "    border: 2px solid var(--fill-color);\n",
              "    border-color: transparent;\n",
              "    border-bottom-color: var(--fill-color);\n",
              "    animation:\n",
              "      spin 1s steps(1) infinite;\n",
              "  }\n",
              "\n",
              "  @keyframes spin {\n",
              "    0% {\n",
              "      border-color: transparent;\n",
              "      border-bottom-color: var(--fill-color);\n",
              "      border-left-color: var(--fill-color);\n",
              "    }\n",
              "    20% {\n",
              "      border-color: transparent;\n",
              "      border-left-color: var(--fill-color);\n",
              "      border-top-color: var(--fill-color);\n",
              "    }\n",
              "    30% {\n",
              "      border-color: transparent;\n",
              "      border-left-color: var(--fill-color);\n",
              "      border-top-color: var(--fill-color);\n",
              "      border-right-color: var(--fill-color);\n",
              "    }\n",
              "    40% {\n",
              "      border-color: transparent;\n",
              "      border-right-color: var(--fill-color);\n",
              "      border-top-color: var(--fill-color);\n",
              "    }\n",
              "    60% {\n",
              "      border-color: transparent;\n",
              "      border-right-color: var(--fill-color);\n",
              "    }\n",
              "    80% {\n",
              "      border-color: transparent;\n",
              "      border-right-color: var(--fill-color);\n",
              "      border-bottom-color: var(--fill-color);\n",
              "    }\n",
              "    90% {\n",
              "      border-color: transparent;\n",
              "      border-bottom-color: var(--fill-color);\n",
              "    }\n",
              "  }\n",
              "</style>\n",
              "\n",
              "  <script>\n",
              "    async function quickchart(key) {\n",
              "      const quickchartButtonEl =\n",
              "        document.querySelector('#' + key + ' button');\n",
              "      quickchartButtonEl.disabled = true;  // To prevent multiple clicks.\n",
              "      quickchartButtonEl.classList.add('colab-df-spinner');\n",
              "      try {\n",
              "        const charts = await google.colab.kernel.invokeFunction(\n",
              "            'suggestCharts', [key], {});\n",
              "      } catch (error) {\n",
              "        console.error('Error during call to suggestCharts:', error);\n",
              "      }\n",
              "      quickchartButtonEl.classList.remove('colab-df-spinner');\n",
              "      quickchartButtonEl.classList.add('colab-df-quickchart-complete');\n",
              "    }\n",
              "    (() => {\n",
              "      let quickchartButtonEl =\n",
              "        document.querySelector('#df-64c99b15-4fc7-4f8a-b68e-358618c3a332 button');\n",
              "      quickchartButtonEl.style.display =\n",
              "        google.colab.kernel.accessAllowed ? 'block' : 'none';\n",
              "    })();\n",
              "  </script>\n",
              "</div>\n",
              "\n",
              "    </div>\n",
              "  </div>\n"
            ],
            "application/vnd.google.colaboratory.intrinsic+json": {
              "type": "dataframe",
              "variable_name": "training_df",
              "summary": "{\n  \"name\": \"training_df\",\n  \"rows\": 12463,\n  \"fields\": [\n    {\n      \"column\": \"TRIP_MILES\",\n      \"properties\": {\n        \"dtype\": \"number\",\n        \"std\": 7.602096908789437,\n        \"min\": 0.5,\n        \"max\": 46.1,\n        \"num_unique_values\": 1403,\n        \"samples\": [\n          10.2,\n          21.4,\n          1.6\n        ],\n        \"semantic_type\": \"\",\n        \"description\": \"\"\n      }\n    },\n    {\n      \"column\": \"TRIP_SECONDS\",\n      \"properties\": {\n        \"dtype\": \"number\",\n        \"std\": 1004,\n        \"min\": 60,\n        \"max\": 6951,\n        \"num_unique_values\": 2796,\n        \"samples\": [\n          1503,\n          2111,\n          476\n        ],\n        \"semantic_type\": \"\",\n        \"description\": \"\"\n      }\n    },\n    {\n      \"column\": \"FARE\",\n      \"properties\": {\n        \"dtype\": \"number\",\n        \"std\": 17.415160453861123,\n        \"min\": 3.25,\n        \"max\": 120.0,\n        \"num_unique_values\": 584,\n        \"samples\": [\n          47.25,\n          24.0,\n          10.95\n        ],\n        \"semantic_type\": \"\",\n        \"description\": \"\"\n      }\n    },\n    {\n      \"column\": \"COMPANY\",\n      \"properties\": {\n        \"dtype\": \"category\",\n        \"num_unique_values\": 28,\n        \"samples\": [\n          \"Taxicab Insurance Agency Llc\",\n          \"6574 - Babylon Express Inc.\",\n          \"Medallion Leasin\"\n        ],\n        \"semantic_type\": \"\",\n        \"description\": \"\"\n      }\n    },\n    {\n      \"column\": \"PAYMENT_TYPE\",\n      \"properties\": {\n        \"dtype\": \"category\",\n        \"num_unique_values\": 7,\n        \"samples\": [\n          \"Cash\",\n          \"Credit Card\",\n          \"Unknown\"\n        ],\n        \"semantic_type\": \"\",\n        \"description\": \"\"\n      }\n    },\n    {\n      \"column\": \"TIP_RATE\",\n      \"properties\": {\n        \"dtype\": \"number\",\n        \"std\": 16.76392599573392,\n        \"min\": 0.0,\n        \"max\": 243.9,\n        \"num_unique_values\": 396,\n        \"samples\": [\n          55.6,\n          4.8,\n          8.3\n        ],\n        \"semantic_type\": \"\",\n        \"description\": \"\"\n      }\n    }\n  ]\n}"
            }
          },
          "metadata": {},
          "execution_count": 9
        }
      ]
    },
    {
      "source": [
        "from google.colab import sheets\n",
        "sheet = sheets.InteractiveSheet(df=training_df)"
      ],
      "cell_type": "code",
      "execution_count": 10,
      "outputs": [
        {
          "output_type": "stream",
          "name": "stdout",
          "text": [
            "https://docs.google.com/spreadsheets/d/1RgmXd9h6yvmpItpwERztueMDQvkpstCpHUdJlWT6KRQ#gid=0\n"
          ]
        },
        {
          "output_type": "display_data",
          "data": {
            "text/plain": [
              "<IPython.lib.display.IFrame at 0x7fe767e390d0>"
            ],
            "text/html": [
              "\n",
              "        <iframe\n",
              "            width=\"100%\"\n",
              "            height=\"600\"\n",
              "            src=\"https://docs.google.com/spreadsheets/d/1RgmXd9h6yvmpItpwERztueMDQvkpstCpHUdJlWT6KRQ#gid=0/edit?rm=embedded?usp=sharing?widget=true&amp;headers=false\"\n",
              "            frameborder=\"0\"\n",
              "            allowfullscreen\n",
              "            \n",
              "        ></iframe>\n",
              "        "
            ]
          },
          "metadata": {}
        }
      ],
      "metadata": {
        "cellView": "form",
        "colab": {
          "base_uri": "https://localhost:8080/",
          "height": 638
        },
        "id": "eXLBr4nD-4Fi",
        "outputId": "62e8c82d-044f-41a0-ea71-15a464345598"
      }
    },
    {
      "cell_type": "code",
      "source": [
        "# Check for missing values\n",
        "print(df.isnull().sum())\n",
        "\n"
      ],
      "metadata": {
        "colab": {
          "base_uri": "https://localhost:8080/"
        },
        "id": "kt-25BmL_qus",
        "outputId": "005081fe-5de4-4bac-8d69-80d4f043648b"
      },
      "execution_count": 11,
      "outputs": [
        {
          "output_type": "stream",
          "name": "stdout",
          "text": [
            "TRIP_START_TIMESTAMP          0\n",
            "TRIP_END_TIMESTAMP            0\n",
            "TRIP_START_HOUR               0\n",
            "TRIP_SECONDS                  0\n",
            "TRIP_MILES                    0\n",
            "TRIP_SPEED                    0\n",
            "PICKUP_CENSUS_TRACT       18435\n",
            "DROPOFF_CENSUS_TRACT      17671\n",
            "PICKUP_COMMUNITY_AREA      3217\n",
            "DROPOFF_COMMUNITY_AREA     3495\n",
            "FARE                          0\n",
            "TIPS                          0\n",
            "TIP_RATE                      0\n",
            "TOLLS                         0\n",
            "EXTRAS                        0\n",
            "TRIP_TOTAL                    0\n",
            "PAYMENT_TYPE                  0\n",
            "COMPANY                       0\n",
            "dtype: int64\n"
          ]
        }
      ]
    },
    {
      "cell_type": "code",
      "source": [
        "data = data.dropna()\n"
      ],
      "metadata": {
        "id": "F07GIaX6AM2s"
      },
      "execution_count": 12,
      "outputs": []
    },
    {
      "cell_type": "code",
      "source": [
        "X = data['TRIP_MILES'].values  # Feature: Trip distance in miles\n",
        "y = data['FARE'].values        # Target: Fare amount"
      ],
      "metadata": {
        "id": "j30JKxdNCjEE"
      },
      "execution_count": 13,
      "outputs": []
    },
    {
      "cell_type": "code",
      "source": [
        "# Normalize the data (optional but recommended)\n",
        "X = (X - np.mean(X)) / np.std(X)\n",
        "y = (y - np.mean(y)) / np.std(y)\n",
        "\n",
        "# Split the data into training and testing sets\n",
        "split_ratio = 0.8\n",
        "split_index = int(split_ratio * len(X))\n",
        "X_train, X_test = X[:split_index], X[split_index:]\n",
        "y_train, y_test = y[:split_index], y[split_index:]\n",
        "\n",
        "# Add a bias term (intercept) to the feature matrix\n",
        "X_train = np.c_[np.ones(X_train.shape[0]), X_train]\n",
        "X_test = np.c_[np.ones(X_test.shape[0]), X_test]"
      ],
      "metadata": {
        "id": "alQoxQZdC7cl"
      },
      "execution_count": 14,
      "outputs": []
    },
    {
      "cell_type": "markdown",
      "source": [
        "What’s Happening Here?\n",
        "Load the Dataset:\n",
        "\n",
        "The dataset is loaded from a URL (or a local file) using pd.read_csv().\n",
        "\n",
        "The dataset contains information about taxi trips, including features like trip_miles (distance) and the target variable fare.\n",
        "\n",
        "Preprocess the Data:\n",
        "\n",
        "Missing values are dropped using data.dropna() to ensure clean data.\n",
        "\n",
        "The feature (trip_miles) and target (fare) are extracted.\n",
        "\n",
        "Normalize the Data:\n",
        "\n",
        "Normalization scales the data to have a mean of 0 and a standard deviation of 1. This helps gradient descent converge faster.\n",
        "\n",
        "Formula:\n",
        "X\n",
        "normalized\n",
        "=\n",
        "X\n",
        "−\n",
        "μ\n",
        "σ\n",
        "X\n",
        "normalized\n",
        "​\n",
        " =\n",
        "σ\n",
        "X−μ\n",
        "​\n",
        " , where\n",
        "μ\n",
        "μ is the mean and\n",
        "σ\n",
        "σ is the standard deviation.\n",
        "\n",
        "Split the Data:\n",
        "\n",
        "The dataset is split into training and testing sets using an 80-20 split.\n",
        "\n",
        "Add a Bias Term:\n",
        "\n",
        "A column of ones is added to the feature matrix to account for the intercept term in the linear regression equation."
      ],
      "metadata": {
        "id": "i1bi6XrgDMdk"
      }
    },
    {
      "cell_type": "code",
      "source": [
        "class LinearRegression:\n",
        "    def __init__(self):\n",
        "        self.theta = None  # Parameters (weights)\n",
        "\n",
        "    def hypothesis(self, X, theta):\n",
        "        return np.dot(X, theta)  # y_pred = X * theta\n",
        "\n",
        "    def cost_function(self, X, y, theta):\n",
        "        m = len(y)\n",
        "        y_pred = self.hypothesis(X, theta)\n",
        "        return (1 / (2 * m)) * np.sum((y_pred - y) ** 2)  # Mean Squared Error\n",
        "\n",
        "    def gradient_descent(self, X, y, theta, learning_rate, num_iterations):\n",
        "        m = len(y)\n",
        "        cost_history = []\n",
        "\n",
        "        for _ in range(num_iterations):\n",
        "            y_pred = self.hypothesis(X, theta)\n",
        "            gradient = (1 / m) * np.dot(X.T, (y_pred - y))  # Compute gradient\n",
        "            theta -= learning_rate * gradient  # Update parameters\n",
        "            cost = self.cost_function(X, y, theta)\n",
        "            cost_history.append(cost)\n",
        "\n",
        "        return theta, cost_history"
      ],
      "metadata": {
        "id": "boDR5cqUDOhh"
      },
      "execution_count": 15,
      "outputs": []
    },
    {
      "cell_type": "code",
      "source": [
        "# Initialize parameters\n",
        "theta = np.zeros(X_train.shape[1])  # Initialize weights to zero\n",
        "learning_rate = 0.01\n",
        "num_iterations = 1000\n",
        "\n",
        "# Create an instance of LinearRegression\n",
        "model = LinearRegression()\n",
        "\n",
        "# Train the model using gradient descent\n",
        "theta, cost_history = model.gradient_descent(X_train, y_train, theta, learning_rate, num_iterations)\n",
        "\n",
        "# Print the learned parameters\n",
        "print(\"Learned parameters (theta):\", theta)"
      ],
      "metadata": {
        "colab": {
          "base_uri": "https://localhost:8080/"
        },
        "id": "j41hTxBKE36o",
        "outputId": "7129f1a5-eb43-403a-b268-c5617dae0a80"
      },
      "execution_count": 16,
      "outputs": [
        {
          "output_type": "stream",
          "name": "stdout",
          "text": [
            "Learned parameters (theta): [0.02061012 1.02228503]\n"
          ]
        }
      ]
    },
    {
      "cell_type": "code",
      "source": [
        "# Make predictions on the test set\n",
        "y_pred = model.hypothesis(X_test, theta)\n",
        "\n",
        "# Calculate Mean Squared Error (MSE)\n",
        "mse = np.mean((y_pred - y_test) ** 2)\n",
        "print(\"Mean Squared Error (MSE):\", mse)\n",
        "\n",
        "# Plot the cost history during training\n",
        "plt.plot(cost_history)\n",
        "plt.xlabel(\"Iterations\")\n",
        "plt.ylabel(\"Cost\")\n",
        "plt.title(\"Cost Function Over Iterations\")\n",
        "plt.show()\n",
        "\n",
        "# Plot the regression line\n",
        "plt.scatter(X_test[:, 1], y_test, color='blue', label=\"Actual\")\n",
        "plt.plot(X_test[:, 1], y_pred, color='red', label=\"Predicted\")\n",
        "plt.xlabel(\"Trip Miles (Normalized)\")\n",
        "plt.ylabel(\"Fare (Normalized)\")\n",
        "plt.title(\"Linear Regression: Actual vs Predicted\")\n",
        "plt.legend()\n",
        "plt.show()"
      ],
      "metadata": {
        "colab": {
          "base_uri": "https://localhost:8080/",
          "height": 944
        },
        "id": "O9LLWl0lE_eT",
        "outputId": "ad5fcb08-4873-4405-8396-eb3bea86752a"
      },
      "execution_count": 17,
      "outputs": [
        {
          "output_type": "stream",
          "name": "stdout",
          "text": [
            "Mean Squared Error (MSE): 0.04587349013022322\n"
          ]
        },
        {
          "output_type": "display_data",
          "data": {
            "text/plain": [
              "<Figure size 640x480 with 1 Axes>"
            ],
            "image/png": "[encoded data removed]"
          },
          "metadata": {}
        },
        {
          "output_type": "display_data",
          "data": {
            "text/plain": [
              "<Figure size 640x480 with 1 Axes>"
            ],
            "image/png": "[encoded data removed]"
          },
          "metadata": {}
        }
      ]
    },
    {
      "cell_type": "code",
      "source": [
        "# Example: Predict fare for a new trip distance\n",
        "new_trip_miles = 5.0  # Example input\n",
        "new_trip_miles_normalized = (new_trip_miles - np.mean(X)) / np.std(X)  # Normalize input\n",
        "new_X = np.array([1, new_trip_miles_normalized])  # Add bias term\n",
        "predicted_fare_normalized = model.hypothesis(new_X, theta)\n",
        "\n",
        "# Denormalize the predicted fare\n",
        "predicted_fare = predicted_fare_normalized * np.std(y) + np.mean(y)\n",
        "print(f\"Predicted fare for a {new_trip_miles}-mile trip: ${predicted_fare:.2f}\")"
      ],
      "metadata": {
        "colab": {
          "base_uri": "https://localhost:8080/"
        },
        "id": "Bgnh-vHkFi0A",
        "outputId": "90d881ce-646b-4639-f3b1-687573e2d9d2"
      },
      "execution_count": 19,
      "outputs": [
        {
          "output_type": "stream",
          "name": "stdout",
          "text": [
            "Predicted fare for a 5.0-mile trip: $5.13\n"
          ]
        }
      ]
    }
  ]
}